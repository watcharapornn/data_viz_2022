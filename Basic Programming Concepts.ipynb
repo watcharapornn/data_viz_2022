{
  "nbformat": 4,
  "nbformat_minor": 0,
  "metadata": {
    "colab": {
      "name": "Untitled7.ipynb",
      "provenance": [],
      "authorship_tag": "ABX9TyPtp9+9eoAkw/KLy6PZBuh/",
      "include_colab_link": true
    },
    "kernelspec": {
      "name": "python3",
      "display_name": "Python 3"
    },
    "language_info": {
      "name": "python"
    }
  },
  "cells": [
    {
      "cell_type": "markdown",
      "metadata": {
        "id": "view-in-github",
        "colab_type": "text"
      },
      "source": [
        "<a href=\"https://colab.research.google.com/github/watcharapornn/data_viz_2022/blob/main/Basic%20Programming%20Concepts.ipynb\" target=\"_parent\"><img src=\"https://colab.research.google.com/assets/colab-badge.svg\" alt=\"Open In Colab\"/></a>"
      ]
    },
    {
      "cell_type": "markdown",
      "source": [
        "# Functions ($f(x) = y$)"
      ],
      "metadata": {
        "id": "Or8sqK4NFaf5"
      }
    },
    {
      "cell_type": "markdown",
      "source": [
        "```python\n",
        "def function_name(input_x):\n",
        "    # do something with input_x to get output_y\n",
        "    return output_y\n",
        "```"
      ],
      "metadata": {
        "id": "nCCWbDy2FtI6"
      }
    },
    {
      "cell_type": "markdown",
      "source": [
        "$f_1(x)=x^2 + 75$"
      ],
      "metadata": {
        "id": "dMKGLY9qGJ-D"
      }
    },
    {
      "cell_type": "code",
      "execution_count": 1,
      "metadata": {
        "colab": {
          "base_uri": "https://localhost:8080/"
        },
        "id": "be6OpVidFV8j",
        "outputId": "fd64416b-fba8-448c-da7a-022f1f81142f"
      },
      "outputs": [
        {
          "output_type": "stream",
          "name": "stdout",
          "text": [
            "done!\n"
          ]
        }
      ],
      "source": [
        "def function_f1(x) :\n",
        "      a = x**2\n",
        "      y = a + 75\n",
        "      return y\n",
        "\n",
        "print('done!')"
      ]
    },
    {
      "cell_type": "code",
      "source": [
        "function_f1(3)"
      ],
      "metadata": {
        "colab": {
          "base_uri": "https://localhost:8080/"
        },
        "id": "O39zW8eGGnCH",
        "outputId": "6c857bbc-f888-46e1-e9c2-fc21c6216c91"
      },
      "execution_count": 2,
      "outputs": [
        {
          "output_type": "execute_result",
          "data": {
            "text/plain": [
              "84"
            ]
          },
          "metadata": {},
          "execution_count": 2
        }
      ]
    },
    {
      "cell_type": "markdown",
      "source": [
        "##function มีส่วนสำคัญทั้งหมด 4 ส่วน\n",
        "\n",
        "1. บอก python ว่าเราเขียนฟังก์ชั่น ชื่ออะไร def function_name( ) : (ขาดไม่ได้)\n",
        "2. กำหนดตัวแปรที่จะเป็น input Input (ขาดได้)\n",
        "3. ส่วนประมวลผล do_something with Input to get Output (ขาดไม่ได้)\n",
        "4. ส่วน output return Output(ขาดได้)\n"
      ],
      "metadata": {
        "id": "ixrQ9u8BHPuI"
      }
    },
    {
      "cell_type": "markdown",
      "source": [
        "##ตัวอย่าง function มีส่วนประกอบครบ"
      ],
      "metadata": {
        "id": "8o65FfDZIBmA"
      }
    },
    {
      "cell_type": "code",
      "source": [
        "def function_f1(x) :\n",
        "      a = x**2\n",
        "      y = a + 75\n",
        "      return y"
      ],
      "metadata": {
        "id": "28k5kvRJGm9C"
      },
      "execution_count": 3,
      "outputs": []
    },
    {
      "cell_type": "markdown",
      "source": [
        "##ตัวอย่าง function ที่ ไม่มี input"
      ],
      "metadata": {
        "id": "lsa0Hyh1IT42"
      }
    },
    {
      "cell_type": "code",
      "source": [
        "def pi_v():\n",
        "    y = 3.14159265359\n",
        "    return y"
      ],
      "metadata": {
        "id": "FMuemr20Gm2y"
      },
      "execution_count": 4,
      "outputs": []
    },
    {
      "cell_type": "code",
      "source": [
        "piv = pi_v()\n",
        "circle_area_r2 = piv*(2**2)\n",
        "print(circle_area_r2) "
      ],
      "metadata": {
        "colab": {
          "base_uri": "https://localhost:8080/"
        },
        "id": "zGI8bsVGGmva",
        "outputId": "104f32b3-26a2-49b0-d0fa-58c3c6d02821"
      },
      "execution_count": 5,
      "outputs": [
        {
          "output_type": "stream",
          "name": "stdout",
          "text": [
            "12.56637061436\n"
          ]
        }
      ]
    },
    {
      "cell_type": "markdown",
      "source": [
        "##Function ไม่มี process ไม่ได้"
      ],
      "metadata": {
        "id": "rwcz3BS3KGlW"
      }
    },
    {
      "cell_type": "code",
      "source": [
        "def function_a():"
      ],
      "metadata": {
        "colab": {
          "base_uri": "https://localhost:8080/",
          "height": 132
        },
        "id": "MqoBwphnKHAQ",
        "outputId": "335777b9-31cc-46b4-b7e2-33e4d93a9533"
      },
      "execution_count": null,
      "outputs": [
        {
          "output_type": "error",
          "ename": "SyntaxError",
          "evalue": "ignored",
          "traceback": [
            "\u001b[0;36m  File \u001b[0;32m\"<ipython-input-13-07a0750214a8>\"\u001b[0;36m, line \u001b[0;32m1\u001b[0m\n\u001b[0;31m    def function_a():\u001b[0m\n\u001b[0m                     ^\u001b[0m\n\u001b[0;31mSyntaxError\u001b[0m\u001b[0;31m:\u001b[0m unexpected EOF while parsing\n"
          ]
        }
      ]
    },
    {
      "cell_type": "code",
      "source": [
        ""
      ],
      "metadata": {
        "id": "_pY2yGjIKHlR"
      },
      "execution_count": null,
      "outputs": []
    },
    {
      "cell_type": "markdown",
      "source": [
        "##ตัวอย่าง Function ที่ไม่มี output"
      ],
      "metadata": {
        "id": "J2mr6WJgJpE8"
      }
    },
    {
      "cell_type": "code",
      "source": [
        "def print_name_id(name,id):\n",
        "    print(f'ชื่อ {name} รหัสประจำตัว {id}')"
      ],
      "metadata": {
        "id": "4Wv2ZhgiKIDm"
      },
      "execution_count": 6,
      "outputs": []
    },
    {
      "cell_type": "code",
      "source": [
        "print_name_id('วัชราภรณ์','613020615-8')"
      ],
      "metadata": {
        "colab": {
          "base_uri": "https://localhost:8080/"
        },
        "id": "FVFVlMWNMAZZ",
        "outputId": "2e075d6e-0194-45f3-e770-c94a528bce72"
      },
      "execution_count": 7,
      "outputs": [
        {
          "output_type": "stream",
          "name": "stdout",
          "text": [
            "ชื่อ วัชราภรณ์ รหัสประจำตัว 613020615-8\n"
          ]
        }
      ]
    },
    {
      "cell_type": "code",
      "source": [
        "a = print_name_id('วัชราภรณ์','613020615-8')"
      ],
      "metadata": {
        "colab": {
          "base_uri": "https://localhost:8080/"
        },
        "id": "fKhLCBwpMAVV",
        "outputId": "8f9fbb73-54b9-4d10-dd99-f7ee838e7651"
      },
      "execution_count": 8,
      "outputs": [
        {
          "output_type": "stream",
          "name": "stdout",
          "text": [
            "ชื่อ วัชราภรณ์ รหัสประจำตัว 613020615-8\n"
          ]
        }
      ]
    },
    {
      "cell_type": "code",
      "source": [
        ""
      ],
      "metadata": {
        "id": "P2m2INweMARL"
      },
      "execution_count": null,
      "outputs": []
    },
    {
      "cell_type": "markdown",
      "source": [
        "ตัวอย่าง function print https://www.programiz.com/python-programming/methods/built-in/print"
      ],
      "metadata": {
        "id": "OxgVxBzjr1x_"
      }
    },
    {
      "cell_type": "code",
      "source": [
        "print('วัชราภรณ์')\n",
        "print('613020615-8')"
      ],
      "metadata": {
        "id": "D6OM1fEgr2Ke",
        "outputId": "fb777cb2-ce44-40f5-dce1-f714a33b01ec",
        "colab": {
          "base_uri": "https://localhost:8080/"
        }
      },
      "execution_count": 9,
      "outputs": [
        {
          "output_type": "stream",
          "name": "stdout",
          "text": [
            "วัชราภรณ์\n",
            "613020615-8\n"
          ]
        }
      ]
    },
    {
      "cell_type": "code",
      "source": [
        "print('วัชราภรณ์',end='->')\n",
        "print('613020615-8')"
      ],
      "metadata": {
        "id": "VugBhnv7r3Ku",
        "outputId": "6754d847-e708-4a18-b8b5-672e824d039b",
        "colab": {
          "base_uri": "https://localhost:8080/"
        }
      },
      "execution_count": 10,
      "outputs": [
        {
          "output_type": "stream",
          "name": "stdout",
          "text": [
            "วัชราภรณ์->613020615-8\n"
          ]
        }
      ]
    },
    {
      "cell_type": "code",
      "source": [
        "print('วัชราภรณ์','613020615-8',sep=' & ')"
      ],
      "metadata": {
        "id": "JuHoPkJTr2__",
        "outputId": "305dac7d-556f-4eef-8dd6-b16a3c4d7810",
        "colab": {
          "base_uri": "https://localhost:8080/"
        }
      },
      "execution_count": 11,
      "outputs": [
        {
          "output_type": "stream",
          "name": "stdout",
          "text": [
            "วัชราภรณ์ & 613020615-8\n"
          ]
        }
      ]
    },
    {
      "cell_type": "code",
      "source": [
        ""
      ],
      "metadata": {
        "id": "Cj5X3Xoxr27I"
      },
      "execution_count": null,
      "outputs": []
    },
    {
      "cell_type": "markdown",
      "source": [
        "## input ของ function แบ่งเป็น 2 ชนิด (จำเป็นต้องใส่ กับ ไม่จำเป็นต้องใส่)"
      ],
      "metadata": {
        "id": "9wqNmoUQs4Ay"
      }
    },
    {
      "cell_type": "markdown",
      "source": [
        "ตัวอย่าง function `print_grade() มี input 3 ตัว จำเป็นต้องใส่ 2 ตัว คือ name กับ id และไม่จำเป็นต้องใส่ 1 ตัว คือเกรด ซึ่งมีค่า default เป็น F"
      ],
      "metadata": {
        "id": "udOW5FCttL3J"
      }
    },
    {
      "cell_type": "code",
      "source": [
        "def print_grade(name,id,grade = 'F'):\n",
        "      print(f'รหัสประจำตัว {id} ชื่อ {name}')\n",
        "      print(f'ได้เกรด {grade}')"
      ],
      "metadata": {
        "id": "ambv_iMas48K"
      },
      "execution_count": 12,
      "outputs": []
    },
    {
      "cell_type": "code",
      "source": [
        "print_grade('นางสาววัชราภรณ์ บุญจวง','613020615-8')"
      ],
      "metadata": {
        "id": "WXcP4a2ktQ5_",
        "outputId": "68d44923-5e37-428a-c60d-2d88809f5b2d",
        "colab": {
          "base_uri": "https://localhost:8080/"
        }
      },
      "execution_count": 13,
      "outputs": [
        {
          "output_type": "stream",
          "name": "stdout",
          "text": [
            "รหัสประจำตัว 613020615-8 ชื่อ นางสาววัชราภรณ์ บุญจวง\n",
            "ได้เกรด F\n"
          ]
        }
      ]
    },
    {
      "cell_type": "code",
      "source": [
        "print_grade('นางสาววัชราภรณ์ บุญจวง','613020615-8','A')"
      ],
      "metadata": {
        "id": "ZFyPkjsytQrc",
        "outputId": "2729d21d-6be2-4f84-e13c-9bbe52842492",
        "colab": {
          "base_uri": "https://localhost:8080/"
        }
      },
      "execution_count": 15,
      "outputs": [
        {
          "output_type": "stream",
          "name": "stdout",
          "text": [
            "รหัสประจำตัว 613020615-8 ชื่อ นางสาววัชราภรณ์ บุญจวง\n",
            "ได้เกรด A\n"
          ]
        }
      ]
    },
    {
      "cell_type": "code",
      "source": [
        "print_grade(id ='613020615-8',name='นางสาววัชราภรณ์ บุญจวง',grade='B+')"
      ],
      "metadata": {
        "id": "foCzjN9wtQlQ",
        "outputId": "682ffe20-52bb-4e3c-bf77-94f1b3dec06f",
        "colab": {
          "base_uri": "https://localhost:8080/"
        }
      },
      "execution_count": 16,
      "outputs": [
        {
          "output_type": "stream",
          "name": "stdout",
          "text": [
            "รหัสประจำตัว 613020615-8 ชื่อ นางสาววัชราภรณ์ บุญจวง\n",
            "ได้เกรด B+\n"
          ]
        }
      ]
    },
    {
      "cell_type": "markdown",
      "source": [
        "# Looping (for)"
      ],
      "metadata": {
        "id": "LVkbfItFMRWB"
      }
    },
    {
      "cell_type": "markdown",
      "source": [
        "```python\n",
        "for member in listEx:\n",
        "    do_something()\n",
        "```"
      ],
      "metadata": {
        "id": "SkidCt6fujYm"
      }
    },
    {
      "cell_type": "code",
      "source": [
        "for member in [1,2,3,4,5,6]:\n",
        "    print(member)"
      ],
      "metadata": {
        "id": "OAI2yxmHulJO",
        "outputId": "76ca7ece-ec11-4741-d798-2d8166e60c67",
        "colab": {
          "base_uri": "https://localhost:8080/"
        }
      },
      "execution_count": 17,
      "outputs": [
        {
          "output_type": "stream",
          "name": "stdout",
          "text": [
            "1\n",
            "2\n",
            "3\n",
            "4\n",
            "5\n",
            "6\n"
          ]
        }
      ]
    },
    {
      "cell_type": "code",
      "source": [
        "def print_name(name):\n",
        "      print(f'ฉันชื่อ {name}')"
      ],
      "metadata": {
        "id": "db-NVaiBuk7a"
      },
      "execution_count": 18,
      "outputs": []
    },
    {
      "cell_type": "code",
      "source": [
        "for name in ['วัชราภรณ์','มีโซ','มานี่ มูน','ยูกิ','นานะ']:\n",
        "    N = name\n",
        "    print_name(N)"
      ],
      "metadata": {
        "id": "a8Toi-WIuk3v",
        "outputId": "fb1052f9-692c-474b-8b82-8eba687e13e9",
        "colab": {
          "base_uri": "https://localhost:8080/"
        }
      },
      "execution_count": 19,
      "outputs": [
        {
          "output_type": "stream",
          "name": "stdout",
          "text": [
            "ฉันชื่อ วัชราภรณ์\n",
            "ฉันชื่อ มีโซ\n",
            "ฉันชื่อ มานี่มูน\n",
            "ฉันชื่อ ยูกิ\n",
            "ฉันชื่อ นานะ\n"
          ]
        }
      ]
    },
    {
      "cell_type": "code",
      "source": [
        "list_name_id_grade = [['น.ส. มีโซ คิม','613020611-1','A'],\n",
        "                                ['น.ส. มานี่ มูน','613020612-2','B+'],\n",
        "                                ['น.ส. ยูกิ','613020613-3','B']]"
      ],
      "metadata": {
        "id": "onsZ-vBwuqsA"
      },
      "execution_count": 20,
      "outputs": []
    },
    {
      "cell_type": "code",
      "source": [
        "for each in list_name_id_grade:\n",
        "    name = each[0]\n",
        "    id = each[1]\n",
        "    grade = each[2]\n",
        "    print_grade(name,id,grade)\n",
        "    print('--------------------')"
      ],
      "metadata": {
        "id": "N6NsOl_8uqoz",
        "outputId": "0805d36e-207e-414a-ec1d-4092216ac9e3",
        "colab": {
          "base_uri": "https://localhost:8080/"
        }
      },
      "execution_count": 21,
      "outputs": [
        {
          "output_type": "stream",
          "name": "stdout",
          "text": [
            "รหัสประจำตัว 613020611-1 ชื่อ น.ส. มีโซ คิม\n",
            "ได้เกรด A\n",
            "--------------------\n",
            "รหัสประจำตัว 613020612-2 ชื่อ น.ส. มานี่ มูน\n",
            "ได้เกรด B+\n",
            "--------------------\n",
            "รหัสประจำตัว 613020613-3 ชื่อ น.ส. ยูกิ\n",
            "ได้เกรด B\n",
            "--------------------\n"
          ]
        }
      ]
    },
    {
      "cell_type": "markdown",
      "source": [
        "## ใช้ for loop เพิ่มสมาชิกใน list"
      ],
      "metadata": {
        "id": "9oDi1E1JwF-8"
      }
    },
    {
      "cell_type": "code",
      "source": [
        "list_name = [] # ตั้งชื่อที่เป็น list ว่างเอาไว้ก่อน\n",
        "list_id = [] # ตั้งชื่อที่เป็น list ว่างเอาไว้ก่อน\n",
        "list_grade = [] # ตั้งชื่อที่เป็น list ว่างเอาไว้ก่อน\n",
        "for each in list_name_id_grade:\n",
        "    list_name.append(each[0])\n",
        "    list_id.append(each[1])\n",
        "    list_grade.append(each[2])"
      ],
      "metadata": {
        "id": "dkMWpE3uuk0z"
      },
      "execution_count": 22,
      "outputs": []
    },
    {
      "cell_type": "code",
      "source": [
        "list_name"
      ],
      "metadata": {
        "id": "1fk3kvc5GmqB",
        "outputId": "af8ae416-f553-41ab-dfaf-0ead694de864",
        "colab": {
          "base_uri": "https://localhost:8080/"
        }
      },
      "execution_count": 23,
      "outputs": [
        {
          "output_type": "execute_result",
          "data": {
            "text/plain": [
              "['น.ส. มีโซ คิม', 'น.ส. มานี่ มูน', 'น.ส. ยูกิ']"
            ]
          },
          "metadata": {},
          "execution_count": 23
        }
      ]
    },
    {
      "cell_type": "markdown",
      "source": [
        "### การวนลูปด้วย range()"
      ],
      "metadata": {
        "id": "j_yOEESoxvhc"
      }
    },
    {
      "cell_type": "code",
      "source": [
        "for i in range(50):\n",
        "    print('แมว', end = ' ')"
      ],
      "metadata": {
        "id": "5ADHCKzzxw5C",
        "outputId": "f76ae125-eb77-467c-faf8-c0e0e5a33202",
        "colab": {
          "base_uri": "https://localhost:8080/"
        }
      },
      "execution_count": 25,
      "outputs": [
        {
          "output_type": "stream",
          "name": "stdout",
          "text": [
            "แมว แมว แมว แมว แมว แมว แมว แมว แมว แมว แมว แมว แมว แมว แมว แมว แมว แมว แมว แมว แมว แมว แมว แมว แมว แมว แมว แมว แมว แมว แมว แมว แมว แมว แมว แมว แมว แมว แมว แมว แมว แมว แมว แมว แมว แมว แมว แมว แมว แมว "
          ]
        }
      ]
    },
    {
      "cell_type": "markdown",
      "source": [
        "## Loop ซ้อน Loop"
      ],
      "metadata": {
        "id": "0MICW2E6x-pf"
      }
    },
    {
      "cell_type": "code",
      "source": [
        "for mem1 in range(2,5): # [2,3,4]\n",
        "    print(f'now mem1 = {mem1}')\n",
        "    for mem2 in range(1,13): # [1,2,3,4,5,6,7,8,9,10,11,12]\n",
        "        print(f'{mem1} x {mem2} = {mem1*mem2}') #เอามาคูณกัน ให้กลายเป็นสูตรคูณแม่ 2 แม่ 3 แม่ 4\n",
        "    print(f'end inner for mem1 = {mem1}')"
      ],
      "metadata": {
        "id": "z_s2K_7Rx_rT",
        "outputId": "14c7af4d-abc4-440b-b003-3b3009220126",
        "colab": {
          "base_uri": "https://localhost:8080/"
        }
      },
      "execution_count": 26,
      "outputs": [
        {
          "output_type": "stream",
          "name": "stdout",
          "text": [
            "now mem1 = 2\n",
            "2 x 1 = 2\n",
            "2 x 2 = 4\n",
            "2 x 3 = 6\n",
            "2 x 4 = 8\n",
            "2 x 5 = 10\n",
            "2 x 6 = 12\n",
            "2 x 7 = 14\n",
            "2 x 8 = 16\n",
            "2 x 9 = 18\n",
            "2 x 10 = 20\n",
            "2 x 11 = 22\n",
            "2 x 12 = 24\n",
            "end inner for mem1 = 2\n",
            "now mem1 = 3\n",
            "3 x 1 = 3\n",
            "3 x 2 = 6\n",
            "3 x 3 = 9\n",
            "3 x 4 = 12\n",
            "3 x 5 = 15\n",
            "3 x 6 = 18\n",
            "3 x 7 = 21\n",
            "3 x 8 = 24\n",
            "3 x 9 = 27\n",
            "3 x 10 = 30\n",
            "3 x 11 = 33\n",
            "3 x 12 = 36\n",
            "end inner for mem1 = 3\n",
            "now mem1 = 4\n",
            "4 x 1 = 4\n",
            "4 x 2 = 8\n",
            "4 x 3 = 12\n",
            "4 x 4 = 16\n",
            "4 x 5 = 20\n",
            "4 x 6 = 24\n",
            "4 x 7 = 28\n",
            "4 x 8 = 32\n",
            "4 x 9 = 36\n",
            "4 x 10 = 40\n",
            "4 x 11 = 44\n",
            "4 x 12 = 48\n",
            "end inner for mem1 = 4\n"
          ]
        }
      ]
    },
    {
      "cell_type": "markdown",
      "source": [
        "### Loop in function"
      ],
      "metadata": {
        "id": "19211ywmyH4T"
      }
    },
    {
      "cell_type": "code",
      "source": [
        "def print_grade_loop(names,grades):\n",
        "    for n,g in zip(names,grades):\n",
        "        print(f'{n} ได้เกรด {g}')"
      ],
      "metadata": {
        "id": "YN-Wro2ex__x"
      },
      "execution_count": 27,
      "outputs": []
    },
    {
      "cell_type": "code",
      "source": [
        "print_grade_loop(list_name,list_grade)"
      ],
      "metadata": {
        "id": "Xkh8C9b3x_15",
        "outputId": "f5b43275-1a30-4c20-9f9d-f0dc732d47e9",
        "colab": {
          "base_uri": "https://localhost:8080/"
        }
      },
      "execution_count": 28,
      "outputs": [
        {
          "output_type": "stream",
          "name": "stdout",
          "text": [
            "น.ส. มีโซ คิม ได้เกรด A\n",
            "น.ส. มานี่ มูน ได้เกรด B+\n",
            "น.ส. ยูกิ ได้เกรด B\n"
          ]
        }
      ]
    },
    {
      "cell_type": "markdown",
      "source": [
        "#Conditional Statemant (if)"
      ],
      "metadata": {
        "id": "G_6rWDQzyQvd"
      }
    },
    {
      "cell_type": "markdown",
      "source": [
        "```python\n",
        "if condition1:\n",
        "  do_something() ## ถ้า condition1 เป็นจริง ทำ do_something()\n",
        "elif condition2:\n",
        "  do_another_thing() ## ถ้า condition1 ไม่เป็นจริงแต่ condition2 เป็นจริง ทำ do_another_thing()\n",
        "else:\n",
        "  do_the_last_thing() ## ถ้าไม่มี conditon ไหนเป็นจริงเลย ทำ do_the_last_thing()\n",
        "```"
      ],
      "metadata": {
        "id": "Ajqc4SqoyXyR"
      }
    },
    {
      "cell_type": "code",
      "source": [
        "for n in list_name:\n",
        "    if len(n)>10:\n",
        "       print(f'{n} ได้เกรด A')\n",
        "    else:\n",
        "      print(f'{n} ได้เกรด F')"
      ],
      "metadata": {
        "id": "86CYUsIgyTuY",
        "outputId": "40e4c969-648c-4ed3-cc1c-9b228fd93f8d",
        "colab": {
          "base_uri": "https://localhost:8080/"
        }
      },
      "execution_count": 29,
      "outputs": [
        {
          "output_type": "stream",
          "name": "stdout",
          "text": [
            "น.ส. มีโซ คิม ได้เกรด A\n",
            "น.ส. มานี่ มูน ได้เกรด A\n",
            "น.ส. ยูกิ ได้เกรด F\n"
          ]
        }
      ]
    },
    {
      "cell_type": "markdown",
      "source": [
        "### operator ที่ใช้ตรวจสอบ condition\n",
        "\n",
        "==, !=, >=, <=, <, >, and, or"
      ],
      "metadata": {
        "id": "KXjmc6_3ymol"
      }
    },
    {
      "cell_type": "code",
      "source": [
        "10 == 20"
      ],
      "metadata": {
        "id": "ZPrXBQGwyUYR",
        "outputId": "c1384e37-0ec3-4981-ff57-ac721d4ef1c5",
        "colab": {
          "base_uri": "https://localhost:8080/"
        }
      },
      "execution_count": 30,
      "outputs": [
        {
          "output_type": "execute_result",
          "data": {
            "text/plain": [
              "False"
            ]
          },
          "metadata": {},
          "execution_count": 30
        }
      ]
    },
    {
      "cell_type": "code",
      "source": [
        "b = 15 <= 20\n",
        "print(b)"
      ],
      "metadata": {
        "id": "_M7FuJI_yUMb",
        "outputId": "27c61364-6b5f-4a38-b744-c1b749d53762",
        "colab": {
          "base_uri": "https://localhost:8080/"
        }
      },
      "execution_count": 31,
      "outputs": [
        {
          "output_type": "stream",
          "name": "stdout",
          "text": [
            "True\n"
          ]
        }
      ]
    },
    {
      "cell_type": "code",
      "source": [
        "if a:\n",
        "  print('x')"
      ],
      "metadata": {
        "id": "LVN4W0PBy_85"
      },
      "execution_count": 32,
      "outputs": []
    },
    {
      "cell_type": "code",
      "source": [
        "if True:\n",
        "  print('x')"
      ],
      "metadata": {
        "id": "LF2E6nTWy_37",
        "outputId": "093ace19-a715-4cf2-93c4-a16f74782854",
        "colab": {
          "base_uri": "https://localhost:8080/"
        }
      },
      "execution_count": 33,
      "outputs": [
        {
          "output_type": "stream",
          "name": "stdout",
          "text": [
            "x\n"
          ]
        }
      ]
    },
    {
      "cell_type": "code",
      "source": [
        "if a and b:\n",
        "  print('x')"
      ],
      "metadata": {
        "id": "eHR2XBtEy_0o"
      },
      "execution_count": 34,
      "outputs": []
    },
    {
      "cell_type": "code",
      "source": [
        "if a or b:\n",
        "  print('x')"
      ],
      "metadata": {
        "id": "ynR6Yo8RzOOc",
        "outputId": "fdcf3934-4d3d-481f-abd9-56bb8ff6f522",
        "colab": {
          "base_uri": "https://localhost:8080/"
        }
      },
      "execution_count": 35,
      "outputs": [
        {
          "output_type": "stream",
          "name": "stdout",
          "text": [
            "x\n"
          ]
        }
      ]
    },
    {
      "cell_type": "markdown",
      "source": [
        "# HW4\n",
        "เขียน function ตัดเกรด โดยที่ input เป็นคะแนน(0-100) , output เป็นเกรด (F-A) หรือ 'ไม่สามารถตัดเกรดได้'\n",
        "\n",
        "วนลูปตัดเกรด input = [1,50,65,90,101,-5,49,'ก',80]\n",
        "\n",
        "กำหนด\n",
        "\n",
        "    ถ้ากำหนดอยู่ระหว่างมากกว่าหรือเท่ากับ 0 แต่น้อยกว่า 50 จะได้เกรด F\n",
        "    ถ้ากำหนดอยู่ระหว่างมากกว่าหรือเท่ากับ 50 แต่น้อยกว่า 55 จะได้เกรด D   \n",
        "    ถ้ากำหนดอยู่ระหว่างมากกว่าหรือเท่ากับ 55 แต่น้อยกว่า 60 จะได้เกรด D+  \n",
        "    ถ้ากำหนดอยู่ระหว่างมากกว่าหรือเท่ากับ 60 แต่น้อยกว่า 65 จะได้เกรด C  \n",
        "    ถ้ากำหนดอยู่ระหว่างมากกว่าหรือเท่ากับ 65 แต่น้อยกว่า 70 จะได้เกรด C+  \n",
        "    ถ้ากำหนดอยู่ระหว่างมากกว่าหรือเท่ากับ 70 แต่น้อยกว่า 75 จะได้เกรด B  \n",
        "    ถ้ากำหนดอยู่ระหว่างมากกว่าหรือเท่ากับ 75 แต่น้อยกว่า 80 จะได้เกรด B+  \n",
        "    ถ้ากำหนดอยู่ระหว่างมากกว่าหรือเท่ากับ 80 จะได้เกรด A\n",
        "    ถ้าคะแนนไม่อยู่ในช่วง 0-100 ให้ return 'ไม่สามารถตัดเกรดได้'"
      ],
      "metadata": {
        "id": "4iv_J5i7zdRO"
      }
    },
    {
      "cell_type": "code",
      "source": [
        "score = [1,50,65,90,101,-5,49,'ก',80]"
      ],
      "metadata": {
        "id": "4HzisgsSzgZL"
      },
      "execution_count": 36,
      "outputs": []
    },
    {
      "cell_type": "code",
      "source": [
        "print(score)\n",
        "print('---------------------------------------')\n",
        "for s in score:\n",
        "    if type(s) == type(\"\"):\n",
        "        print (f'คะแนน {s} ไม่สามารถตัดเกรดได้')\n",
        "    else:\n",
        "        if s >= 101:\n",
        "            print (f'คะแนน {s} ไม่สามารถตัดเกรดได้')\n",
        "        elif s >= 80:\n",
        "            print (f'คะแนน {s} ได้เกรด A')\n",
        "        elif s >= 75:\n",
        "            print (f'คะแนน {s} ได้เกรด B+')\n",
        "        elif s >= 70:\n",
        "            print (f'คะแนน {s} ได้เกรด B')\n",
        "        elif s >= 65:\n",
        "            print (f'คะแนน {s} ได้เกรด C+')\n",
        "        elif  s >= 60:\n",
        "            print (f'คะแนน {s} ได้เกรด C')\n",
        "        elif  s >= 55:\n",
        "            print (f'คะแนน {s} ได้เกรด D+')\n",
        "        elif  s >= 50:\n",
        "            print (f'คะแนน {s} ได้เกรด D')\n",
        "        elif  s >= 0:\n",
        "            print (f'คะแนน {s} ได้เกรด F')\n",
        "        else:\n",
        "            print (f'คะแนน {s} ไม่สามารถตัดเกรดได้')\n",
        "print('---------------------------------------')"
      ],
      "metadata": {
        "id": "Hu8mFwqnzjCN",
        "outputId": "fa8bceca-825a-4613-da6a-347ec05364f7",
        "colab": {
          "base_uri": "https://localhost:8080/"
        }
      },
      "execution_count": 37,
      "outputs": [
        {
          "output_type": "stream",
          "name": "stdout",
          "text": [
            "[1, 50, 65, 90, 101, -5, 49, 'ก', 80]\n",
            "---------------------------------------\n",
            "คะแนน 1 ได้เกรด F\n",
            "คะแนน 50 ได้เกรด D\n",
            "คะแนน 65 ได้เกรด C+\n",
            "คะแนน 90 ได้เกรด A\n",
            "คะแนน 101 ไม่สามารถตัดเกรดได้\n",
            "คะแนน -5 ไม่สามารถตัดเกรดได้\n",
            "คะแนน 49 ได้เกรด F\n",
            "คะแนน ก ไม่สามารถตัดเกรดได้\n",
            "คะแนน 80 ได้เกรด A\n",
            "---------------------------------------\n"
          ]
        }
      ]
    },
    {
      "cell_type": "markdown",
      "source": [
        "# Conditional Statement (if)"
      ],
      "metadata": {
        "id": "DwuvF_jvMTDl"
      }
    },
    {
      "cell_type": "code",
      "source": [
        ""
      ],
      "metadata": {
        "id": "baIQmbrtMV4z"
      },
      "execution_count": null,
      "outputs": []
    }
  ]
}